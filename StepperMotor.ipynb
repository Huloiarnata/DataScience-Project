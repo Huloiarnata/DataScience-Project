{
 "cells": [
  {
   "cell_type": "code",
   "execution_count": null,
   "metadata": {},
   "outputs": [],
   "source": [
    "#importing Libraries.\n",
    "import RPi.GPIO as GPIO\n",
    "from time import *\n",
    "\n",
    "#setting up board.\n",
    "GPIO.setmode(GPIO.BCM)\n",
    "\n",
    "#motor pins.\n",
    "a1 = 17\n",
    "a2 = 18\n",
    "b1 = 22\n",
    "b2 = 23\n",
    "\n",
    "#setting up pins.\n",
    "GPIO.setup(a1, GPIO.OUT)\n",
    "GPIO.setup(a2, GPIO.OUT)\n",
    "GPIO.setup(b1, GPIO.OUT)\n",
    "GPIO.setup(b2, GPIO.OUT)\n",
    "\n",
    "#sequences.\n",
    "frwd_seq = [1010, 0110, 0101, 1001]\n",
    "rev_seq = list(reversed(frwd_seq))\n",
    "\n",
    "#input for rotation direction & number of steps.\n",
    "direction = input(\"Enter f or b : \")\n",
    "num_step = int(input(\"Enter number of steps: \"))\n",
    "if direction == 'f':\n",
    "    sequence = frwd_seq\n",
    "elif direction == 'b':\n",
    "    sequence = rev_seq\n",
    "else:\n",
    "    print(\"Invalid Response!\")\n",
    "    GPIO.cleanup()\n",
    "    GPIO.exit()\n",
    "\n",
    "for _ in num_step:\n",
    "    for step in sequence:\n",
    "        GPIO.output(a1, int(step[0]))\n",
    "        GPIO.output(a2, int(step[1]))\n",
    "        GPIO.output(b1, int(step[2]))\n",
    "        GPIO.output(b2, int(step[3]))\n",
    "        time.sleep(0.5)\n",
    "GPIO.cleanup()\n",
    "\n",
    "\n",
    "\n"
   ]
  }
 ],
 "metadata": {
  "language_info": {
   "name": "python"
  }
 },
 "nbformat": 4,
 "nbformat_minor": 2
}
