{
 "cells": [
  {
   "cell_type": "code",
   "execution_count": null,
   "metadata": {},
   "outputs": [],
   "source": [
    "#importing libraries.\n",
    "import paho.mqtt.client as paho\n",
    "import os\n",
    "import time\n",
    "from datetime import datetime\n",
    "import json\n",
    "\n",
    "#Access Token for thingsboard\n",
    "ACCESS_TOKEN = \"access_token\"\n",
    "broker = 'demo.thingsboard.io'\n",
    "port = 1883\n",
    "\n",
    "#callback function.\n",
    "def on_connect():\n",
    "    print(\"Data Published Succesfully!\")\n",
    "    pass\n",
    "\n",
    "#establishing connection with thingsboard.\n",
    "client = paho.Client()\n",
    "client.on_connect = on_connect\n",
    "\n",
    "client.username_pw_set(ACCESS_TOKEN)\n",
    "client.connect(broker, port, keepalive=60)\n",
    "\n",
    "while True:\n",
    "    payload = \"{\"\n",
    "    payload += \"\\\"Humidity\\\":60,\";\n",
    "    payload +=\"\\\"Temperature\\\": 25\";\n",
    "    payload += \"}\"\n",
    "\n",
    "    ret = client.publish(\"v1/devices/me/telemetry\".payload)\n",
    "    print(\"Check Telemetry\")\n",
    "    print(payload)\n",
    "    time.sleep(5)\n",
    "\n",
    "\n",
    "\n",
    "\n"
   ]
  }
 ],
 "metadata": {
  "language_info": {
   "name": "python"
  }
 },
 "nbformat": 4,
 "nbformat_minor": 2
}
