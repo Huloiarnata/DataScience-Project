{
 "cells": [
  {
   "cell_type": "code",
   "execution_count": null,
   "metadata": {},
   "outputs": [],
   "source": [
    "#libraries\n",
    "import RPi.GPIO as GPIO\n",
    "from time import *\n",
    "\n",
    "#setting up board\n",
    "GPIO.setmode(GPIO.BCM)\n",
    "\n",
    "#pins.\n",
    "trig = 18\n",
    "echo = 22\n",
    "\n",
    "#setting up pin.\n",
    "GPIO.setup(trig, GPIO.OUT)\n",
    "GPIO.setup(echo, GPIO.IN)\n",
    "\n",
    "#dstance function.\n",
    "def get_distance():\n",
    "\n",
    "    #sending out ultrasonic pulse.\n",
    "    GPIO.output(trig, True)\n",
    "    time.sleep(0.000001)\n",
    "    GPIO.output(trig, False)\n",
    "\n",
    "    #calculation duration of pulse to return.\n",
    "    while GPIO.input(echo)==0:\n",
    "        pulse_start = time.time()\n",
    "    \n",
    "    while GPIO.input(echo)==1:\n",
    "        pulse_end = time.time()\n",
    "    pulse_duration = pulse_end - pulse_start\n",
    "    distance = (17150* pulse_duration)\n",
    "    return distance\n",
    "\n",
    "while 1:\n",
    "    print(f\"Distance is {get_distance()} cm\")\n",
    "    sleep(0.2)\n",
    "    \n"
   ]
  }
 ],
 "metadata": {
  "language_info": {
   "name": "python"
  }
 },
 "nbformat": 4,
 "nbformat_minor": 2
}
