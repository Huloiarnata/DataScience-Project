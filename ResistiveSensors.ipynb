{
 "cells": [
  {
   "cell_type": "code",
   "execution_count": null,
   "metadata": {},
   "outputs": [],
   "source": [
    "#libraries\n",
    "import RPi.GPIO as GPIO\n",
    "from time import *\n",
    "\n",
    "#setting up pins\n",
    "a_pin = 18\n",
    "b_pin = 23\n",
    "\n",
    "#discharging.\n",
    "def discharge():\n",
    "    GPIO.setup(a_pin, GPIO.IN)\n",
    "    GPIO.setup(b_pin, GPIO.OUT)\n",
    "\n",
    "    GPIO.output(b_pin, False)\n",
    "\n",
    "#charging.\n",
    "def charging():\n",
    "    GPIO.setup(a_pin, GPIO.OUT)\n",
    "    GPIO.setup(b_pin, GPIO.IN)\n",
    "\n",
    "    count = 0\n",
    "\n",
    "    GPIO.output(a_pin, True)\n",
    "\n",
    "    while not GPIO.input(b_pin):\n",
    "        count+=1\n",
    "    return count\n",
    "def analog_read():\n",
    "    discharge()\n",
    "    return charging()\n",
    "\n",
    "while(1):\n",
    "    print(analog_read())\n",
    "    time.sleep(1)\n",
    "\n"
   ]
  }
 ],
 "metadata": {
  "language_info": {
   "name": "python"
  }
 },
 "nbformat": 4,
 "nbformat_minor": 2
}
