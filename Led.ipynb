{
 "cells": [
  {
   "cell_type": "code",
   "execution_count": null,
   "metadata": {},
   "outputs": [],
   "source": [
    "#LED Blinking.\n",
    "import RPi.GPIO as GPIO\n",
    "from time import *\n",
    "\n",
    "GPIO.setmode(GPIO.BCM)\n",
    "\n",
    "GPIO.setup(18, GPIO.OUT)\n",
    "\n",
    "while(1):\n",
    "    GPIO.output(18, True)\n",
    "    sleep(0.5)\n",
    "    GPIO.output(18, False)\n",
    "    sleep(0.5)"
   ]
  },
  {
   "cell_type": "code",
   "execution_count": null,
   "metadata": {},
   "outputs": [],
   "source": [
    "#Controlling LED brightness: PWM[Pulse Width Modulation]\n",
    "import RPi.GPIO as GPIO\n",
    "from time import *\n",
    "\n",
    "GPIO.setmode(GPIO.BCM)\n",
    "\n",
    "GPIO.setup(18, GPIO.OUT)\n",
    "pwm = GPIO.PWM(18, 100)\n",
    "pwm.start(0)\n",
    "while(1):\n",
    "    for i in range(0,100):\n",
    "        pwm.ChangeDutyCycle(i)\n",
    "        sleep(1)\n",
    "    for i in range(100, 0, -1):\n",
    "        pwm.ChangeDutyCycle(i)\n",
    "        sleep(1)\n",
    "pwm.stop(0)"
   ]
  }
 ],
 "metadata": {
  "language_info": {
   "name": "python"
  }
 },
 "nbformat": 4,
 "nbformat_minor": 2
}
