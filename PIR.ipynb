{
 "cells": [
  {
   "cell_type": "code",
   "execution_count": null,
   "metadata": {},
   "outputs": [],
   "source": [
    "#libraries.\n",
    "import RPi.GPIO as GPIO\n",
    "from time import *\n",
    "\n",
    "#setup board\n",
    "GPIO.setmode(GPIO.BCM)\n",
    "\n",
    "#pins\n",
    "ledpin = 13\n",
    "a = 22\n",
    "\n",
    "#setup pins.\n",
    "GPIO.setup(ledpin, GPIO.OUT)\n",
    "GPIO.setup(a, GPIO.IN, pull_up_down = GPIO.PUD.DOWN)\n",
    "\n",
    "try:\n",
    "    while 1:\n",
    "        i = GPIO.input(a)\n",
    "        if i==0:\n",
    "            print(\"No Intruder Detected\")\n",
    "            GPIO.output(ledpin, 0)\n",
    "            sleep(1)\n",
    "        else:\n",
    "            print(\"Intrudder detected!!\")\n",
    "            GPIO.output(ledpin, 1)\n",
    "            sleep(1)\n",
    "except KeyboardInterrupt:\n",
    "    GPIO.cleanup()\n",
    "\n",
    "\n",
    "\n",
    "\n",
    "\n"
   ]
  }
 ],
 "metadata": {
  "language_info": {
   "name": "python"
  }
 },
 "nbformat": 4,
 "nbformat_minor": 2
}
