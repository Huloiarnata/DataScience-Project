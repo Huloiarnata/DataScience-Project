{
 "cells": [
  {
   "cell_type": "code",
   "execution_count": null,
   "metadata": {},
   "outputs": [],
   "source": [
    "import RPi.GPIO as GPIO\n",
    "from time import *\n",
    "\n",
    "GPIO.setmode(GPIO.BCM)\n",
    "\n",
    "GPIO.setup(18, GPIO.OUT)\n",
    "GPIO.setup(23, GPIO.IN, pull_up_down = GPIO.PUD_UP)\n",
    "\n",
    "while(1):\n",
    "    button_state = GPIO.input(23)\n",
    "    if(button_state == False):\n",
    "        print('Button Pressed!')\n",
    "        GPIO.output(18, True)\n",
    "        sleep(1)\n",
    "    else:\n",
    "        GPIO.output(18, False)\n",
    "        sleep(1)"
   ]
  }
 ],
 "metadata": {
  "language_info": {
   "name": "python"
  }
 },
 "nbformat": 4,
 "nbformat_minor": 2
}
