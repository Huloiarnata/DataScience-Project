{
 "cells": [
  {
   "cell_type": "code",
   "execution_count": null,
   "metadata": {},
   "outputs": [],
   "source": [
    "import RPi.GPIO as GPIO\n",
    "from time import *\n",
    "\n",
    "GPIO.setmode(GPIO.BCM)\n",
    "\n",
    "GPIO.setup(3, GPIO.OUT)\n",
    "\n",
    "while(1):\n",
    "    x = input(\"Enter ON or OFF\")\n",
    "    if x == \"ON\":\n",
    "        GPIO.output(3, True)\n",
    "        sleep(1)\n",
    "    elif x == \"OFF\":\n",
    "        GPIO.output(3, False)\n",
    "        sleep(1)\n",
    "    else:\n",
    "        print(\"Invalid Input\")"
   ]
  }
 ],
 "metadata": {
  "language_info": {
   "name": "python"
  }
 },
 "nbformat": 4,
 "nbformat_minor": 2
}
