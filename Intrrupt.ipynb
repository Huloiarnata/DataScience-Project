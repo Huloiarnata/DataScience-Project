{
 "cells": [
  {
   "cell_type": "code",
   "execution_count": null,
   "metadata": {},
   "outputs": [],
   "source": [
    "#Controlling LED using switches and interrupts.\n",
    "import RPi.GPIO as GPIO\n",
    "from time import *\n",
    "\n",
    "led_pin = 27\n",
    "buttonpin_1 = 17\n",
    "buttonpin_2 = 18\n",
    "\n",
    "GPIO.setmode(GPIO.BCM)\n",
    "\n",
    "GPIO.setup(buttonpin_1, GPIO.IN, pull_up_down = GPIO.PUD_DOWN)\n",
    "GPIO.setup(buttonpin_2, GPIO.IN, pull_up_down = GPIO.PUD_UP)\n",
    "GPIO.setup(led_pin, GPIO.OUT)\n",
    "\n",
    "def turn_on_led(channel):\n",
    "    GPIO.output(led_pin, GPIO.HIGH)\n",
    "    print(\"Switch 1 is rising, led on\")\n",
    "\n",
    "def turn_off_led(channel):\n",
    "    GPIO.output(led_pin, GPIO.LOW)\n",
    "    print(\"switch 2 is falling, led off\")\n",
    "\n",
    "GPIO.add_event_detector(buttonpin_2, GPIO.FALLING, callback = turn_off_led, bouncetime = 200)\n",
    "GPIO.add_event_detector(buttonpin_1, GPIO.RISING, callback = turn_on_led, bouncetime = 200)\n",
    "print(\"in while loop\")\n",
    "try:\n",
    "    while 1:\n",
    "        pass\n",
    "except KeyboardInterrupt:\n",
    "    GPIO.cleanup()\n",
    "\n"
   ]
  }
 ],
 "metadata": {
  "language_info": {
   "name": "python"
  }
 },
 "nbformat": 4,
 "nbformat_minor": 2
}
